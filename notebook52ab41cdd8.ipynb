{
  "metadata": {
    "kernelspec": {
      "language": "python",
      "display_name": "Python 3",
      "name": "python3"
    },
    "language_info": {
      "name": "python",
      "version": "3.7.10",
      "mimetype": "text/x-python",
      "codemirror_mode": {
        "name": "ipython",
        "version": 3
      },
      "pygments_lexer": "ipython3",
      "nbconvert_exporter": "python",
      "file_extension": ".py"
    },
    "kaggle": {
      "accelerator": "none",
      "dataSources": [
        {
          "sourceId": 9413705,
          "sourceType": "datasetVersion",
          "datasetId": 5716887
        }
      ],
      "dockerImageVersionId": 30120,
      "isInternetEnabled": false,
      "language": "python",
      "sourceType": "notebook",
      "isGpuEnabled": false
    },
    "colab": {
      "name": "notebook52ab41cdd8",
      "provenance": [],
      "include_colab_link": true
    }
  },
  "nbformat_minor": 0,
  "nbformat": 4,
  "cells": [
    {
      "cell_type": "markdown",
      "metadata": {
        "id": "view-in-github",
        "colab_type": "text"
      },
      "source": [
        "<a href=\"https://colab.research.google.com/github/tpgnsqkr555/AppNews/blob/master/notebook52ab41cdd8.ipynb\" target=\"_parent\"><img src=\"https://colab.research.google.com/assets/colab-badge.svg\" alt=\"Open In Colab\"/></a>"
      ]
    },
    {
      "source": [
        "# IMPORTANT: RUN THIS CELL IN ORDER TO IMPORT YOUR KAGGLE DATA SOURCES,\n",
        "# THEN FEEL FREE TO DELETE THIS CELL.\n",
        "# NOTE: THIS NOTEBOOK ENVIRONMENT DIFFERS FROM KAGGLE'S PYTHON\n",
        "# ENVIRONMENT SO THERE MAY BE MISSING LIBRARIES USED BY YOUR\n",
        "# NOTEBOOK.\n",
        "import kagglehub\n",
        "morecoding_iris_dataset_path = kagglehub.dataset_download('morecoding/iris-dataset')\n",
        "\n",
        "print('Data source import complete.')\n"
      ],
      "metadata": {
        "id": "KtziLXxGr967"
      },
      "cell_type": "code",
      "outputs": [],
      "execution_count": null
    },
    {
      "cell_type": "markdown",
      "source": [
        "# This notebook was taken from http://www.cse.msu.edu/~ptan/dmbook/software/\n",
        "modified by Yuzhen Ye for B565, 2023\n",
        "\n",
        "# Module 3: Data Exploration\n",
        "\n",
        "The following tutorial contains examples of Python code for data exploration. You should refer to the \"Data Exploration\" chapter of the \"Introduction to Data Mining\" book (available at https://www-users.cs.umn.edu/~kumar001/dmbook/index.php) to understand some of the concepts introduced in this tutorial notebook. The notebook can be downloaded from http://www.cse.msu.edu/~ptan/dmbook/tutorials/tutorial3/tutorial3.ipynb.\n",
        "\n",
        "Data exploration refers to the preliminary investigation of data in order\n",
        "to better understand its specific characteristics. There are two key motivations for data exploration:\n",
        "1. <font color='red'>To help users select the appropriate preprocessing and data analysis technique used.</font>\n",
        "2. <font color='red'>To make use of humans’ abilities to recognize patterns in the data.</font>\n",
        "\n",
        "Read the step-by-step instructions below carefully. To execute the code, click on the cell and press the SHIFT-ENTER keys simultaneously."
      ],
      "metadata": {
        "id": "ITzbcgu0r968"
      }
    },
    {
      "cell_type": "markdown",
      "source": [],
      "metadata": {
        "id": "cqYeg7d-r969"
      }
    },
    {
      "cell_type": "markdown",
      "source": [
        "## 3.1. Summary Statistics\n",
        "\n",
        "Summary statistics are quantities, such as the mean and standard deviation, that capture various characteristics of a potentially large set of values with a single number or a small set of numbers. In this tutorial, we will use the Iris sample data, which contains information on 150 Iris flowers, 50 each from one of three Iris species: Setosa, Versicolour, and Virginica. Each flower is characterized by five attributes:\n",
        "\n",
        "- sepal length in centimeters\n",
        "\n",
        "- sepal width in centimeters\n",
        "\n",
        "- petal length in centimeters\n",
        "\n",
        "- petal width in centimeters\n",
        "\n",
        "- class (Setosa, Versicolour, Virginica)\n",
        "\n",
        "In this tutorial, you will learn how to:\n",
        "\n",
        "- Load a CSV data file into a Pandas DataFrame object.\n",
        "\n",
        "- Compute various summary statistics from the DataFrame.\n",
        "\n",
        "To execute the sample program shown here, make sure you have installed the Pandas library (see Module 2)."
      ],
      "metadata": {
        "id": "E05363-7r969"
      }
    },
    {
      "cell_type": "markdown",
      "source": [
        "**1.** First, you need to download the <a href=\"http://archive.ics.uci.edu/ml/datasets/Iris\">Iris dataset</a> from the UCI machine learning repository.\n",
        "\n",
        "**<font color='red'>Code:</font>** The following code uses Pandas to read the CSV file and store them in a DataFrame object named data. Next, it will display the first five rows of the data frame."
      ],
      "metadata": {
        "id": "mvrMCr5qr969"
      }
    },
    {
      "cell_type": "code",
      "source": [
        "import pandas as pd\n",
        "\n",
        "#data = pd.read_csv('http://archive.ics.uci.edu/ml/machine-learning-databases/iris/iris.data',header=None)\n",
        "data = pd.read_csv('/kaggle/input/iris-dataset/iris.data', header=None)\n",
        "data.columns = ['sepal length', 'sepal width', 'petal length', 'petal width', 'class']\n",
        "\n",
        "data.head()"
      ],
      "metadata": {
        "execution": {
          "iopub.status.busy": "2024-09-16T15:24:41.278767Z",
          "iopub.execute_input": "2024-09-16T15:24:41.27915Z",
          "iopub.status.idle": "2024-09-16T15:24:41.330969Z",
          "shell.execute_reply.started": "2024-09-16T15:24:41.279114Z",
          "shell.execute_reply": "2024-09-16T15:24:41.329855Z"
        },
        "trusted": true,
        "id": "dytkNqdSr969"
      },
      "outputs": [],
      "execution_count": null
    },
    {
      "cell_type": "markdown",
      "source": [
        "**2.** For each quantitative attribute, calculate its mean (average), standard deviation, minimum, and maximum values.\n",
        "\n",
        "Given a random variable $x$ of $n$ dimensions,\n",
        "\n",
        "mean($x$): $\\bar x = \\frac{1}{n}\\sum\\limits_{k=1}^{n}x_k$\n",
        "\n",
        "standard deviation ($x$): $s_x$ = $\\sqrt{\\frac{1}{n-1}\\sum\\limits_{k=1}^n(x_k - \\bar x)^2}$\n",
        "\n",
        "variance: $s_x^2$ = $\\frac{1}{n-1}\\sum_{k=1}^n(x_k - \\bar x)^2$\n",
        "\n",
        "\n",
        "**<font color=\"red\">Code:</font>**"
      ],
      "metadata": {
        "id": "m9Bxj87dr969"
      }
    },
    {
      "cell_type": "code",
      "source": [
        "from pandas.api.types import is_numeric_dtype\n",
        "\n",
        "for col in data.columns:\n",
        "    if is_numeric_dtype(data[col]):\n",
        "        print('%s:' % (col))\n",
        "        print('\\t Mean = %.2f' % data[col].mean())\n",
        "        print('\\t Standard deviation = %.2f' % data[col].std())\n",
        "        print('\\t Minimum = %.2f' % data[col].min())\n",
        "        print('\\t Maximum = %.2f' % data[col].max())"
      ],
      "metadata": {
        "execution": {
          "iopub.status.busy": "2024-09-16T15:19:02.941724Z",
          "iopub.execute_input": "2024-09-16T15:19:02.942146Z",
          "iopub.status.idle": "2024-09-16T15:19:02.957236Z",
          "shell.execute_reply.started": "2024-09-16T15:19:02.942099Z",
          "shell.execute_reply": "2024-09-16T15:19:02.956155Z"
        },
        "trusted": true,
        "id": "U1Ge1G8nr969"
      },
      "outputs": [],
      "execution_count": null
    },
    {
      "cell_type": "markdown",
      "source": [
        "**3.** For the qualitative attribute (class), count the frequency for each of its distinct values.\n",
        "\n",
        "**<font color=\"red\">Code:</font>**"
      ],
      "metadata": {
        "id": "_2vesLNer96-"
      }
    },
    {
      "cell_type": "code",
      "source": [
        "data['class'].value_counts()"
      ],
      "metadata": {
        "execution": {
          "iopub.status.busy": "2024-09-16T15:19:02.959296Z",
          "iopub.execute_input": "2024-09-16T15:19:02.959661Z",
          "iopub.status.idle": "2024-09-16T15:19:02.972031Z",
          "shell.execute_reply.started": "2024-09-16T15:19:02.959616Z",
          "shell.execute_reply": "2024-09-16T15:19:02.971035Z"
        },
        "trusted": true,
        "id": "DTQJEaSfr96-"
      },
      "outputs": [],
      "execution_count": null
    },
    {
      "cell_type": "markdown",
      "source": [
        "**4.** It is also possible to display the summary for all the attributes simultaneously in a table using the describe() function. If an attribute is quantitative, it will display its mean, standard deviation and various quantiles (including minimum, median, and maximum) values. If an attribute is qualitative, it will display its number of unique values and the top (most frequent) values.\n",
        "\n",
        "**<font color=\"red\">Code:</font>**"
      ],
      "metadata": {
        "id": "wcUxFrC4r96-"
      }
    },
    {
      "cell_type": "code",
      "source": [
        "data.describe(include='all')"
      ],
      "metadata": {
        "execution": {
          "iopub.status.busy": "2024-09-16T15:19:02.973663Z",
          "iopub.execute_input": "2024-09-16T15:19:02.974185Z",
          "iopub.status.idle": "2024-09-16T15:19:03.021186Z",
          "shell.execute_reply.started": "2024-09-16T15:19:02.974137Z",
          "shell.execute_reply": "2024-09-16T15:19:03.020146Z"
        },
        "trusted": true,
        "id": "MDW8m33fr96-"
      },
      "outputs": [],
      "execution_count": null
    },
    {
      "cell_type": "markdown",
      "source": [
        "Note that count refers to the number of non-missing values for each attribute."
      ],
      "metadata": {
        "id": "aQWGo2Hor96-"
      }
    },
    {
      "cell_type": "markdown",
      "source": [
        "**5.** For multivariate statistics, you can compute the covariance and correlation between pairs of attributes.\n",
        "\n",
        "Given two variables $x$ and $y$ of $n$ dimensions,\n",
        "\n",
        "covariance($x$, $y$) = $s_{xy} = \\frac{1}{n-1} \\sum_{k=1}^n (x_k - \\bar x) (y_k - \\bar y)$\n",
        "\n",
        "corr($x$, $y$) = $\\frac{covariance(x, y)}{standard\\_deviation(x) \\times standard\\_deviation(y)} = \\frac{s_{xy}}{s_x s_y}$\n",
        "\n",
        "**<font color=\"red\">Code:</font>**"
      ],
      "metadata": {
        "id": "8h-djuPPr96-"
      }
    },
    {
      "cell_type": "code",
      "source": [
        "print('Covariance:')\n",
        "data.cov()"
      ],
      "metadata": {
        "execution": {
          "iopub.status.busy": "2024-09-16T15:19:03.022556Z",
          "iopub.execute_input": "2024-09-16T15:19:03.022894Z",
          "iopub.status.idle": "2024-09-16T15:19:03.039461Z",
          "shell.execute_reply.started": "2024-09-16T15:19:03.022864Z",
          "shell.execute_reply": "2024-09-16T15:19:03.03833Z"
        },
        "trusted": true,
        "id": "wHu2SmBOr96-"
      },
      "outputs": [],
      "execution_count": null
    },
    {
      "cell_type": "code",
      "source": [
        "print('Correlation:')\n",
        "data.corr()"
      ],
      "metadata": {
        "execution": {
          "iopub.status.busy": "2024-09-16T15:19:03.040941Z",
          "iopub.execute_input": "2024-09-16T15:19:03.041314Z",
          "iopub.status.idle": "2024-09-16T15:19:03.057782Z",
          "shell.execute_reply.started": "2024-09-16T15:19:03.041281Z",
          "shell.execute_reply": "2024-09-16T15:19:03.05648Z"
        },
        "trusted": true,
        "id": "3r9xma5gr96-"
      },
      "outputs": [],
      "execution_count": null
    },
    {
      "cell_type": "markdown",
      "source": [
        "## 3.2. Data Visualization\n",
        "\n",
        "Data visualization is the display of information in a graphic or tabular format. Successful visualization requires that the data (information) be converted into a visual format so that the characteristics of the data and the relationships\n",
        "among data items or attributes can be analyzed or reported.\n",
        "\n",
        "In this tutorial, you will learn how to display the Iris data created in Section 3.1. To execute the sample program shown here, make sure you have installed the matplotlib library package (see Module 0 on how to install Python packages)."
      ],
      "metadata": {
        "id": "T11GwU2Ir96-"
      }
    },
    {
      "cell_type": "markdown",
      "source": [
        "**1.** First, we will display the histogram for the sepal length attribute by discretizing it into 8 separate bins and counting the frequency for each bin.\n",
        "\n",
        "**<font color=\"red\">Code:</font>**"
      ],
      "metadata": {
        "id": "y9vsgZv6r96-"
      }
    },
    {
      "cell_type": "code",
      "source": [
        "%matplotlib inline\n",
        "\n",
        "data['sepal length'].hist(bins=8)"
      ],
      "metadata": {
        "execution": {
          "iopub.status.busy": "2024-09-16T15:19:03.059348Z",
          "iopub.execute_input": "2024-09-16T15:19:03.059704Z",
          "iopub.status.idle": "2024-09-16T15:19:03.296441Z",
          "shell.execute_reply.started": "2024-09-16T15:19:03.059668Z",
          "shell.execute_reply": "2024-09-16T15:19:03.295396Z"
        },
        "trusted": true,
        "id": "ICG6d2OIr96-"
      },
      "outputs": [],
      "execution_count": null
    },
    {
      "cell_type": "markdown",
      "source": [
        "**2.** A boxplot can also be used to show the distribution of values for each attribute.\n",
        "\n",
        "**<font color=\"red\">Code:</font>**"
      ],
      "metadata": {
        "id": "nf5pWHJlr96-"
      }
    },
    {
      "cell_type": "code",
      "source": [
        "data.boxplot()"
      ],
      "metadata": {
        "execution": {
          "iopub.status.busy": "2024-09-16T15:19:03.298452Z",
          "iopub.execute_input": "2024-09-16T15:19:03.298757Z",
          "iopub.status.idle": "2024-09-16T15:19:03.508559Z",
          "shell.execute_reply.started": "2024-09-16T15:19:03.298726Z",
          "shell.execute_reply": "2024-09-16T15:19:03.507586Z"
        },
        "trusted": true,
        "id": "PB04t255r96-"
      },
      "outputs": [],
      "execution_count": null
    },
    {
      "cell_type": "markdown",
      "source": [
        "**3.** For each pair of attributes, we can use a scatter plot to visualize their joint distribution.\n",
        "\n",
        "**<font color=\"red\">Code:</font>**"
      ],
      "metadata": {
        "id": "aLKPUfPVr96-"
      }
    },
    {
      "cell_type": "code",
      "source": [
        "import matplotlib.pyplot as plt\n",
        "\n",
        "fig, axes = plt.subplots(3, 3, figsize=(12,12))\n",
        "index = 0\n",
        "for i in range(3):\n",
        "    for j in range(i+1,4):\n",
        "        ax2 = i\n",
        "        ax1 = j - i - 1\n",
        "        axes[ax1][ax2].scatter(data[data.columns[i]], data[data.columns[j]], color='red')\n",
        "        axes[ax1][ax2].set_xlabel(data.columns[i])\n",
        "        axes[ax1][ax2].set_ylabel(data.columns[j])"
      ],
      "metadata": {
        "execution": {
          "iopub.status.busy": "2024-09-16T15:19:03.509852Z",
          "iopub.execute_input": "2024-09-16T15:19:03.510135Z",
          "iopub.status.idle": "2024-09-16T15:19:04.835308Z",
          "shell.execute_reply.started": "2024-09-16T15:19:03.510106Z",
          "shell.execute_reply": "2024-09-16T15:19:04.834284Z"
        },
        "trusted": true,
        "id": "1JrV4q3Tr96-"
      },
      "outputs": [],
      "execution_count": null
    },
    {
      "cell_type": "markdown",
      "source": [
        "**4.** Parallel coordinates can be used to display all the data points simultaneously. Parallel coordinates have one coordinate axis for each attribute, but the different axes are parallel to one other instead of perpendicular, as is traditional. Furthermore, an object is represented as a line instead of as a point. In the example below, the distribution of values for each class can be identified in a separate color.\n",
        "\n",
        "**<font color=\"red\">Code:</font>**"
      ],
      "metadata": {
        "id": "dn_3aCmNr96-"
      }
    },
    {
      "cell_type": "code",
      "source": [
        "from pandas.plotting import parallel_coordinates\n",
        "%matplotlib inline\n",
        "\n",
        "parallel_coordinates(data, 'class')"
      ],
      "metadata": {
        "execution": {
          "iopub.status.busy": "2024-09-16T15:19:04.836535Z",
          "iopub.execute_input": "2024-09-16T15:19:04.836848Z",
          "iopub.status.idle": "2024-09-16T15:19:05.446651Z",
          "shell.execute_reply.started": "2024-09-16T15:19:04.836817Z",
          "shell.execute_reply": "2024-09-16T15:19:05.444851Z"
        },
        "trusted": true,
        "id": "wF6PPHoDr96-"
      },
      "outputs": [],
      "execution_count": null
    },
    {
      "cell_type": "markdown",
      "source": [
        "## 3.3. Summary\n",
        "\n",
        "This tutorial presents several examples for data exploration and visualization using the Pandas and matplotlib library packages available in Python.\n",
        "\n",
        "**<font color='blue'>References:</font>**\n",
        "\n",
        "1. Documentation on Pandas. https://pandas.pydata.org/\n",
        "2. Documentation on matplotlib. https://matplotlib.org/\n",
        "3. Lichman, M. (2013). UCI Machine Learning Repository [http://archive.ics.uci.edu/ml]. Irvine, CA: University of California, School of Information and Computer Science."
      ],
      "metadata": {
        "id": "AaNKfg7Sr96-"
      }
    },
    {
      "cell_type": "code",
      "source": [
        "plt.figure(figsize=(10, 6))\n",
        "plt.hist(df['petal width (cm)'], bins=20, edgecolor='black', color='skyblue')\n",
        "plt.xlabel('Petal Width (cm)', fontsize=12)\n",
        "plt.ylabel('Frequency', fontsize=12)\n",
        "plt.title('Distribution of Petal Width in Iris Dataset', fontsize=14)\n",
        "plt.show()"
      ],
      "metadata": {
        "trusted": true,
        "execution": {
          "iopub.status.busy": "2025-09-17T03:00:09.41641Z",
          "iopub.execute_input": "2025-09-17T03:00:09.416777Z",
          "iopub.status.idle": "2025-09-17T03:00:09.670209Z",
          "shell.execute_reply.started": "2025-09-17T03:00:09.416745Z",
          "shell.execute_reply": "2025-09-17T03:00:09.668843Z"
        },
        "id": "C9ZF2zvTr96-",
        "outputId": "1a3d4d5f-1a60-40c2-d4b2-a63afd952d6a"
      },
      "outputs": [
        {
          "output_type": "display_data",
          "data": {
            "text/plain": "<Figure size 720x432 with 1 Axes>",
            "image/png": "[encoded data removed]"
          },
          "metadata": {
            "needs_background": "light"
          }
        }
      ],
      "execution_count": null
    },
    {
      "cell_type": "code",
      "source": [
        "correlation_matrix = df[['sepal length (cm)', 'sepal width (cm)',\n",
        "                         'petal length (cm)', 'petal width (cm)']].corr()\n",
        "print(\"Correlation Matrix:\")\n",
        "print(correlation_matrix)\n",
        "print(\"\\nHighest correlation is between: petal length and petal width\")"
      ],
      "metadata": {
        "trusted": true,
        "execution": {
          "iopub.status.busy": "2025-09-17T03:00:11.738862Z",
          "iopub.execute_input": "2025-09-17T03:00:11.739341Z",
          "iopub.status.idle": "2025-09-17T03:00:11.752846Z",
          "shell.execute_reply.started": "2025-09-17T03:00:11.739208Z",
          "shell.execute_reply": "2025-09-17T03:00:11.751422Z"
        },
        "id": "QadjkkCnr96_",
        "outputId": "77401b1d-0086-4cbe-d367-72a5e6982e88"
      },
      "outputs": [
        {
          "name": "stdout",
          "text": "Correlation Matrix:\n                   sepal length (cm)  sepal width (cm)  petal length (cm)  \\\nsepal length (cm)           1.000000         -0.117570           0.871754   \nsepal width (cm)           -0.117570          1.000000          -0.428440   \npetal length (cm)           0.871754         -0.428440           1.000000   \npetal width (cm)            0.817941         -0.366126           0.962865   \n\n                   petal width (cm)  \nsepal length (cm)          0.817941  \nsepal width (cm)          -0.366126  \npetal length (cm)          0.962865  \npetal width (cm)           1.000000  \n\nHighest correlation is between: petal length and petal width\n",
          "output_type": "stream"
        }
      ],
      "execution_count": null
    },
    {
      "cell_type": "code",
      "source": [
        "plt.figure(figsize=(10, 6))\n",
        "plt.scatter(df['petal length (cm)'], df['petal width (cm)'],\n",
        "           alpha=0.6, s=50, edgecolor='black')\n",
        "plt.xlabel('Petal Length (cm)', fontsize=12)\n",
        "plt.ylabel('Petal Width (cm)', fontsize=12)\n",
        "plt.title('Scatter Plot: Petal Length vs Petal Width', fontsize=14)\n",
        "plt.show()"
      ],
      "metadata": {
        "trusted": true,
        "execution": {
          "iopub.status.busy": "2025-09-17T03:00:46.099136Z",
          "iopub.execute_input": "2025-09-17T03:00:46.099548Z",
          "iopub.status.idle": "2025-09-17T03:00:46.299031Z",
          "shell.execute_reply.started": "2025-09-17T03:00:46.099507Z",
          "shell.execute_reply": "2025-09-17T03:00:46.297484Z"
        },
        "id": "5HMR1W_Kr96_",
        "outputId": "9c0da2d6-bd40-4660-d6ac-fde17ed5a787"
      },
      "outputs": [
        {
          "output_type": "display_data",
          "data": {
            "text/plain": "<Figure size 720x432 with 1 Axes>",
            "image/png": "[encoded data removed]"
          },
          "metadata": {
            "needs_background": "light"
          }
        }
      ],
      "execution_count": null
    },
    {
      "cell_type": "code",
      "source": [
        "corr_coefficient = df['petal length (cm)'].corr(df['petal width (cm)'])\n",
        "print(f\"Pearson Correlation Coefficient: {corr_coefficient:.4f}\")\n",
        "#no, min–max normalization should not be applied for correlation analysis because it doesn’t change how variables relate to each other\n"
      ],
      "metadata": {
        "trusted": true,
        "execution": {
          "iopub.status.busy": "2025-09-17T03:00:48.498701Z",
          "iopub.execute_input": "2025-09-17T03:00:48.499071Z",
          "iopub.status.idle": "2025-09-17T03:00:48.50794Z",
          "shell.execute_reply.started": "2025-09-17T03:00:48.499039Z",
          "shell.execute_reply": "2025-09-17T03:00:48.50592Z"
        },
        "id": "BepZo9cdr96_",
        "outputId": "05479e01-6f96-4bfb-8da1-67bac5575fa6"
      },
      "outputs": [
        {
          "name": "stdout",
          "text": "Pearson Correlation Coefficient: 0.9629\n",
          "output_type": "stream"
        }
      ],
      "execution_count": null
    }
  ]
}